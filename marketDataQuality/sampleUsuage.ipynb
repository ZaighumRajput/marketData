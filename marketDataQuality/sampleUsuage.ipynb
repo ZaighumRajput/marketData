{
 "metadata": {
  "name": ""
 },
 "nbformat": 3,
 "nbformat_minor": 0,
 "worksheets": [
  {
   "cells": [
    {
     "cell_type": "code",
     "collapsed": false,
     "input": [],
     "language": "python",
     "metadata": {},
     "outputs": [
      {
       "output_type": "stream",
       "stream": "stdout",
       "text": [
        " Volume in drive C is OSDisk\n",
        " Volume Serial Number is B647-6128\n",
        "\n",
        " Directory of C:\\Git\\marketData\\marketDataQuality\n",
        "\n",
        "09/17/2014  11:35    <DIR>          .\n",
        "09/17/2014  11:35    <DIR>          ..\n",
        "09/12/2014  10:33    <DIR>          fileParsers\n",
        "09/08/2014  15:53             2,165 fileSearch.pyc\n",
        "09/08/2014  17:16    <DIR>          fileSearchTest\n",
        "09/12/2014  10:51    <DIR>          inputFunctions\n",
        "09/12/2014  10:33             8,433 marketDataQuality.pyproj\n",
        "09/17/2014  11:35               308 sampleUsuage.ipynb\n",
        "               3 File(s)         10,906 bytes\n",
        "               5 Dir(s)  143,818,063,872 bytes free\n"
       ]
      }
     ],
     "prompt_number": 1
    },
    {
     "cell_type": "code",
     "collapsed": false,
     "input": [
      "cd inputFunctions/"
     ],
     "language": "python",
     "metadata": {},
     "outputs": [
      {
       "output_type": "stream",
       "stream": "stdout",
       "text": [
        "C:\\Git\\marketData\\marketDataQuality\\inputFunctions\n"
       ]
      }
     ],
     "prompt_number": 2
    },
    {
     "cell_type": "code",
     "collapsed": false,
     "input": [
      "import pandas as pd"
     ],
     "language": "python",
     "metadata": {},
     "outputs": [],
     "prompt_number": 56
    },
    {
     "cell_type": "code",
     "collapsed": false,
     "input": [
      "reload(pandaLoad)\n",
      "networkMD = r\"//srpzyfap0003.insim.biz/ESGShare/MD\"\n",
      "df = pl.getDataSeries(\"20140818\", \"IRC\", networkMD)\n",
      "\n",
      "\n"
     ],
     "language": "python",
     "metadata": {},
     "outputs": [],
     "prompt_number": 150
    },
    {
     "cell_type": "code",
     "collapsed": false,
     "input": [
      "df.groupby(['Maturity']).InterestRate.apply(np.min)]\n"
     ],
     "language": "python",
     "metadata": {},
     "outputs": [
      {
       "ename": "SyntaxError",
       "evalue": "invalid syntax (<ipython-input-156-a79198fcfe9f>, line 1)",
       "output_type": "pyerr",
       "traceback": [
        "\u001b[1;36m  File \u001b[1;32m\"<ipython-input-156-a79198fcfe9f>\"\u001b[1;36m, line \u001b[1;32m1\u001b[0m\n\u001b[1;33m    df.groupby(['Maturity']).InterestRate.apply(np.min)]\u001b[0m\n\u001b[1;37m                                                       ^\u001b[0m\n\u001b[1;31mSyntaxError\u001b[0m\u001b[1;31m:\u001b[0m invalid syntax\n"
       ]
      }
     ],
     "prompt_number": 156
    },
    {
     "cell_type": "code",
     "collapsed": false,
     "input": [
      "import numpy as np\n",
      "import pandas as pd"
     ],
     "language": "python",
     "metadata": {},
     "outputs": [],
     "prompt_number": 74
    },
    {
     "cell_type": "code",
     "collapsed": false,
     "input": [
      "a = np.random.randn(10)\n",
      "b = np.random.randn(10)\n",
      "c = ['foo' if x > 0.5 else 'bar' for x in np.random.rand(10)]\n",
      "print(a)\n",
      "print(b)\n",
      "print(c)"
     ],
     "language": "python",
     "metadata": {},
     "outputs": [
      {
       "output_type": "stream",
       "stream": "stdout",
       "text": [
        "[ 0.79930867 -1.19659353  0.26004872  1.9874254   2.02275256  1.65914003\n",
        "  0.22669694 -1.41965088 -0.7360256   1.29771177]\n",
        "[-0.72320732  1.15598071  1.22085238  0.33846225 -1.55187134 -1.14470795\n",
        " -0.98912092  0.73640412  1.37389815 -0.65229538]\n",
        "['bar', 'foo', 'foo', 'bar', 'bar', 'bar', 'foo', 'foo', 'bar', 'bar']\n"
       ]
      }
     ],
     "prompt_number": 75
    },
    {
     "cell_type": "code",
     "collapsed": false,
     "input": [
      "d = { 'A' : pd.Series(a), 'b' : pd.Series(b), 'c' : pd.Series(c)}\n",
      "print(d['c'])\n"
     ],
     "language": "python",
     "metadata": {},
     "outputs": [
      {
       "output_type": "stream",
       "stream": "stdout",
       "text": [
        "0    bar\n",
        "1    foo\n",
        "2    foo\n",
        "3    bar\n",
        "4    bar\n",
        "5    bar\n",
        "6    foo\n",
        "7    foo\n",
        "8    bar\n",
        "9    bar\n",
        "dtype: object\n"
       ]
      }
     ],
     "prompt_number": 78
    },
    {
     "cell_type": "code",
     "collapsed": false,
     "input": [
      "df = pd.DataFrame(d)\n",
      "df"
     ],
     "language": "python",
     "metadata": {},
     "outputs": [
      {
       "metadata": {},
       "output_type": "pyout",
       "prompt_number": 83,
       "text": [
        "0    0.799309\n",
        "1   -1.196594\n",
        "2    0.260049\n",
        "3    1.987425\n",
        "4    2.022753\n",
        "5    1.659140\n",
        "6    0.226697\n",
        "7   -1.419651\n",
        "8   -0.736026\n",
        "9    1.297712\n",
        "Name: A, dtype: float64"
       ]
      }
     ],
     "prompt_number": 83
    },
    {
     "cell_type": "code",
     "collapsed": false,
     "input": [
      "df.A"
     ],
     "language": "python",
     "metadata": {},
     "outputs": [
      {
       "metadata": {},
       "output_type": "pyout",
       "prompt_number": 84,
       "text": [
        "0    0.799309\n",
        "1   -1.196594\n",
        "2    0.260049\n",
        "3    1.987425\n",
        "4    2.022753\n",
        "5    1.659140\n",
        "6    0.226697\n",
        "7   -1.419651\n",
        "8   -0.736026\n",
        "9    1.297712\n",
        "Name: A, dtype: float64"
       ]
      }
     ],
     "prompt_number": 84
    },
    {
     "cell_type": "code",
     "collapsed": false,
     "input": [
      "df['A']"
     ],
     "language": "python",
     "metadata": {},
     "outputs": [
      {
       "metadata": {},
       "output_type": "pyout",
       "prompt_number": 85,
       "text": [
        "0    0.799309\n",
        "1   -1.196594\n",
        "2    0.260049\n",
        "3    1.987425\n",
        "4    2.022753\n",
        "5    1.659140\n",
        "6    0.226697\n",
        "7   -1.419651\n",
        "8   -0.736026\n",
        "9    1.297712\n",
        "Name: A, dtype: float64"
       ]
      }
     ],
     "prompt_number": 85
    },
    {
     "cell_type": "code",
     "collapsed": false,
     "input": [
      "df['A'] + 10"
     ],
     "language": "python",
     "metadata": {},
     "outputs": [
      {
       "metadata": {},
       "output_type": "pyout",
       "prompt_number": 86,
       "text": [
        "0    10.799309\n",
        "1     8.803406\n",
        "2    10.260049\n",
        "3    11.987425\n",
        "4    12.022753\n",
        "5    11.659140\n",
        "6    10.226697\n",
        "7     8.580349\n",
        "8     9.263974\n",
        "9    11.297712\n",
        "Name: A, dtype: float64"
       ]
      }
     ],
     "prompt_number": 86
    },
    {
     "cell_type": "code",
     "collapsed": false,
     "input": [
      "df['Sum'] = df['A'] < 0.1"
     ],
     "language": "python",
     "metadata": {},
     "outputs": [],
     "prompt_number": 90
    },
    {
     "cell_type": "code",
     "collapsed": false,
     "input": [
      "df"
     ],
     "language": "python",
     "metadata": {},
     "outputs": [
      {
       "html": [
        "<div style=\"max-height:1000px;max-width:1500px;overflow:auto;\">\n",
        "<table border=\"1\" class=\"dataframe\">\n",
        "  <thead>\n",
        "    <tr style=\"text-align: right;\">\n",
        "      <th></th>\n",
        "      <th>A</th>\n",
        "      <th>b</th>\n",
        "      <th>c</th>\n",
        "      <th>Sum</th>\n",
        "    </tr>\n",
        "  </thead>\n",
        "  <tbody>\n",
        "    <tr>\n",
        "      <th>0</th>\n",
        "      <td> 0.799309</td>\n",
        "      <td>-0.723207</td>\n",
        "      <td> bar</td>\n",
        "      <td> False</td>\n",
        "    </tr>\n",
        "    <tr>\n",
        "      <th>1</th>\n",
        "      <td>-1.196594</td>\n",
        "      <td> 1.155981</td>\n",
        "      <td> foo</td>\n",
        "      <td>  True</td>\n",
        "    </tr>\n",
        "    <tr>\n",
        "      <th>2</th>\n",
        "      <td> 0.260049</td>\n",
        "      <td> 1.220852</td>\n",
        "      <td> foo</td>\n",
        "      <td> False</td>\n",
        "    </tr>\n",
        "    <tr>\n",
        "      <th>3</th>\n",
        "      <td> 1.987425</td>\n",
        "      <td> 0.338462</td>\n",
        "      <td> bar</td>\n",
        "      <td> False</td>\n",
        "    </tr>\n",
        "    <tr>\n",
        "      <th>4</th>\n",
        "      <td> 2.022753</td>\n",
        "      <td>-1.551871</td>\n",
        "      <td> bar</td>\n",
        "      <td> False</td>\n",
        "    </tr>\n",
        "    <tr>\n",
        "      <th>5</th>\n",
        "      <td> 1.659140</td>\n",
        "      <td>-1.144708</td>\n",
        "      <td> bar</td>\n",
        "      <td> False</td>\n",
        "    </tr>\n",
        "    <tr>\n",
        "      <th>6</th>\n",
        "      <td> 0.226697</td>\n",
        "      <td>-0.989121</td>\n",
        "      <td> foo</td>\n",
        "      <td> False</td>\n",
        "    </tr>\n",
        "    <tr>\n",
        "      <th>7</th>\n",
        "      <td>-1.419651</td>\n",
        "      <td> 0.736404</td>\n",
        "      <td> foo</td>\n",
        "      <td>  True</td>\n",
        "    </tr>\n",
        "    <tr>\n",
        "      <th>8</th>\n",
        "      <td>-0.736026</td>\n",
        "      <td> 1.373898</td>\n",
        "      <td> bar</td>\n",
        "      <td>  True</td>\n",
        "    </tr>\n",
        "    <tr>\n",
        "      <th>9</th>\n",
        "      <td> 1.297712</td>\n",
        "      <td>-0.652295</td>\n",
        "      <td> bar</td>\n",
        "      <td> False</td>\n",
        "    </tr>\n",
        "  </tbody>\n",
        "</table>\n",
        "<p>10 rows \u00d7 4 columns</p>\n",
        "</div>"
       ],
       "metadata": {},
       "output_type": "pyout",
       "prompt_number": 91,
       "text": [
        "          A         b    c    Sum\n",
        "0  0.799309 -0.723207  bar  False\n",
        "1 -1.196594  1.155981  foo   True\n",
        "2  0.260049  1.220852  foo  False\n",
        "3  1.987425  0.338462  bar  False\n",
        "4  2.022753 -1.551871  bar  False\n",
        "5  1.659140 -1.144708  bar  False\n",
        "6  0.226697 -0.989121  foo  False\n",
        "7 -1.419651  0.736404  foo   True\n",
        "8 -0.736026  1.373898  bar   True\n",
        "9  1.297712 -0.652295  bar  False\n",
        "\n",
        "[10 rows x 4 columns]"
       ]
      }
     ],
     "prompt_number": 91
    },
    {
     "cell_type": "code",
     "collapsed": false,
     "input": [
      "df[df['Sum']]"
     ],
     "language": "python",
     "metadata": {},
     "outputs": [
      {
       "html": [
        "<div style=\"max-height:1000px;max-width:1500px;overflow:auto;\">\n",
        "<table border=\"1\" class=\"dataframe\">\n",
        "  <thead>\n",
        "    <tr style=\"text-align: right;\">\n",
        "      <th></th>\n",
        "      <th>A</th>\n",
        "      <th>b</th>\n",
        "      <th>c</th>\n",
        "      <th>Sum</th>\n",
        "    </tr>\n",
        "  </thead>\n",
        "  <tbody>\n",
        "    <tr>\n",
        "      <th>1</th>\n",
        "      <td>-1.196594</td>\n",
        "      <td> 1.155981</td>\n",
        "      <td> foo</td>\n",
        "      <td> True</td>\n",
        "    </tr>\n",
        "    <tr>\n",
        "      <th>7</th>\n",
        "      <td>-1.419651</td>\n",
        "      <td> 0.736404</td>\n",
        "      <td> foo</td>\n",
        "      <td> True</td>\n",
        "    </tr>\n",
        "    <tr>\n",
        "      <th>8</th>\n",
        "      <td>-0.736026</td>\n",
        "      <td> 1.373898</td>\n",
        "      <td> bar</td>\n",
        "      <td> True</td>\n",
        "    </tr>\n",
        "  </tbody>\n",
        "</table>\n",
        "<p>3 rows \u00d7 4 columns</p>\n",
        "</div>"
       ],
       "metadata": {},
       "output_type": "pyout",
       "prompt_number": 93,
       "text": [
        "          A         b    c   Sum\n",
        "1 -1.196594  1.155981  foo  True\n",
        "7 -1.419651  0.736404  foo  True\n",
        "8 -0.736026  1.373898  bar  True\n",
        "\n",
        "[3 rows x 4 columns]"
       ]
      }
     ],
     "prompt_number": 93
    },
    {
     "cell_type": "code",
     "collapsed": false,
     "input": [
      "df.head(5)"
     ],
     "language": "python",
     "metadata": {},
     "outputs": [
      {
       "html": [
        "<div style=\"max-height:1000px;max-width:1500px;overflow:auto;\">\n",
        "<table border=\"1\" class=\"dataframe\">\n",
        "  <thead>\n",
        "    <tr style=\"text-align: right;\">\n",
        "      <th></th>\n",
        "      <th>A</th>\n",
        "      <th>b</th>\n",
        "      <th>c</th>\n",
        "      <th>Sum</th>\n",
        "    </tr>\n",
        "  </thead>\n",
        "  <tbody>\n",
        "    <tr>\n",
        "      <th>0</th>\n",
        "      <td> 0.799309</td>\n",
        "      <td>-0.723207</td>\n",
        "      <td> bar</td>\n",
        "      <td> False</td>\n",
        "    </tr>\n",
        "    <tr>\n",
        "      <th>1</th>\n",
        "      <td>-1.196594</td>\n",
        "      <td> 1.155981</td>\n",
        "      <td> foo</td>\n",
        "      <td>  True</td>\n",
        "    </tr>\n",
        "    <tr>\n",
        "      <th>2</th>\n",
        "      <td> 0.260049</td>\n",
        "      <td> 1.220852</td>\n",
        "      <td> foo</td>\n",
        "      <td> False</td>\n",
        "    </tr>\n",
        "    <tr>\n",
        "      <th>3</th>\n",
        "      <td> 1.987425</td>\n",
        "      <td> 0.338462</td>\n",
        "      <td> bar</td>\n",
        "      <td> False</td>\n",
        "    </tr>\n",
        "    <tr>\n",
        "      <th>4</th>\n",
        "      <td> 2.022753</td>\n",
        "      <td>-1.551871</td>\n",
        "      <td> bar</td>\n",
        "      <td> False</td>\n",
        "    </tr>\n",
        "  </tbody>\n",
        "</table>\n",
        "<p>5 rows \u00d7 4 columns</p>\n",
        "</div>"
       ],
       "metadata": {},
       "output_type": "pyout",
       "prompt_number": 96,
       "text": [
        "          A         b    c    Sum\n",
        "0  0.799309 -0.723207  bar  False\n",
        "1 -1.196594  1.155981  foo   True\n",
        "2  0.260049  1.220852  foo  False\n",
        "3  1.987425  0.338462  bar  False\n",
        "4  2.022753 -1.551871  bar  False\n",
        "\n",
        "[5 rows x 4 columns]"
       ]
      }
     ],
     "prompt_number": 96
    },
    {
     "cell_type": "code",
     "collapsed": false,
     "input": [
      "df.shape"
     ],
     "language": "python",
     "metadata": {},
     "outputs": [
      {
       "metadata": {},
       "output_type": "pyout",
       "prompt_number": 97,
       "text": [
        "(10, 4)"
       ]
      }
     ],
     "prompt_number": 97
    },
    {
     "cell_type": "code",
     "collapsed": false,
     "input": [
      "df"
     ],
     "language": "python",
     "metadata": {},
     "outputs": [
      {
       "html": [
        "<div style=\"max-height:1000px;max-width:1500px;overflow:auto;\">\n",
        "<table border=\"1\" class=\"dataframe\">\n",
        "  <thead>\n",
        "    <tr style=\"text-align: right;\">\n",
        "      <th></th>\n",
        "      <th>A</th>\n",
        "      <th>b</th>\n",
        "      <th>c</th>\n",
        "      <th>Sum</th>\n",
        "    </tr>\n",
        "  </thead>\n",
        "  <tbody>\n",
        "    <tr>\n",
        "      <th>0</th>\n",
        "      <td> 0.799309</td>\n",
        "      <td>-0.723207</td>\n",
        "      <td> bar</td>\n",
        "      <td> False</td>\n",
        "    </tr>\n",
        "    <tr>\n",
        "      <th>1</th>\n",
        "      <td>-1.196594</td>\n",
        "      <td> 1.155981</td>\n",
        "      <td> foo</td>\n",
        "      <td>  True</td>\n",
        "    </tr>\n",
        "    <tr>\n",
        "      <th>2</th>\n",
        "      <td> 0.260049</td>\n",
        "      <td> 1.220852</td>\n",
        "      <td> foo</td>\n",
        "      <td> False</td>\n",
        "    </tr>\n",
        "    <tr>\n",
        "      <th>3</th>\n",
        "      <td> 1.987425</td>\n",
        "      <td> 0.338462</td>\n",
        "      <td> bar</td>\n",
        "      <td> False</td>\n",
        "    </tr>\n",
        "    <tr>\n",
        "      <th>4</th>\n",
        "      <td> 2.022753</td>\n",
        "      <td>-1.551871</td>\n",
        "      <td> bar</td>\n",
        "      <td> False</td>\n",
        "    </tr>\n",
        "    <tr>\n",
        "      <th>5</th>\n",
        "      <td> 1.659140</td>\n",
        "      <td>-1.144708</td>\n",
        "      <td> bar</td>\n",
        "      <td> False</td>\n",
        "    </tr>\n",
        "    <tr>\n",
        "      <th>6</th>\n",
        "      <td> 0.226697</td>\n",
        "      <td>-0.989121</td>\n",
        "      <td> foo</td>\n",
        "      <td> False</td>\n",
        "    </tr>\n",
        "    <tr>\n",
        "      <th>7</th>\n",
        "      <td>-1.419651</td>\n",
        "      <td> 0.736404</td>\n",
        "      <td> foo</td>\n",
        "      <td>  True</td>\n",
        "    </tr>\n",
        "    <tr>\n",
        "      <th>8</th>\n",
        "      <td>-0.736026</td>\n",
        "      <td> 1.373898</td>\n",
        "      <td> bar</td>\n",
        "      <td>  True</td>\n",
        "    </tr>\n",
        "    <tr>\n",
        "      <th>9</th>\n",
        "      <td> 1.297712</td>\n",
        "      <td>-0.652295</td>\n",
        "      <td> bar</td>\n",
        "      <td> False</td>\n",
        "    </tr>\n",
        "  </tbody>\n",
        "</table>\n",
        "<p>10 rows \u00d7 4 columns</p>\n",
        "</div>"
       ],
       "metadata": {},
       "output_type": "pyout",
       "prompt_number": 99,
       "text": [
        "          A         b    c    Sum\n",
        "0  0.799309 -0.723207  bar  False\n",
        "1 -1.196594  1.155981  foo   True\n",
        "2  0.260049  1.220852  foo  False\n",
        "3  1.987425  0.338462  bar  False\n",
        "4  2.022753 -1.551871  bar  False\n",
        "5  1.659140 -1.144708  bar  False\n",
        "6  0.226697 -0.989121  foo  False\n",
        "7 -1.419651  0.736404  foo   True\n",
        "8 -0.736026  1.373898  bar   True\n",
        "9  1.297712 -0.652295  bar  False\n",
        "\n",
        "[10 rows x 4 columns]"
       ]
      }
     ],
     "prompt_number": 99
    },
    {
     "cell_type": "code",
     "collapsed": false,
     "input": [
      "df.mean(axis=0)"
     ],
     "language": "python",
     "metadata": {},
     "outputs": [
      {
       "metadata": {},
       "output_type": "pyout",
       "prompt_number": 100,
       "text": [
        "A      0.490081\n",
        "b     -0.023561\n",
        "Sum    0.300000\n",
        "dtype: float64"
       ]
      }
     ],
     "prompt_number": 100
    },
    {
     "cell_type": "code",
     "collapsed": false,
     "input": [
      "df.mean(axis=1)"
     ],
     "language": "python",
     "metadata": {},
     "outputs": [
      {
       "metadata": {},
       "output_type": "pyout",
       "prompt_number": 101,
       "text": [
        "0    0.025367\n",
        "1    0.319796\n",
        "2    0.493634\n",
        "3    0.775296\n",
        "4    0.156960\n",
        "5    0.171477\n",
        "6   -0.254141\n",
        "7    0.105584\n",
        "8    0.545958\n",
        "9    0.215139\n",
        "dtype: float64"
       ]
      }
     ],
     "prompt_number": 101
    },
    {
     "cell_type": "code",
     "collapsed": false,
     "input": [],
     "language": "python",
     "metadata": {},
     "outputs": []
    }
   ],
   "metadata": {}
  }
 ]
}